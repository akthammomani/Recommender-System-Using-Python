{
 "cells": [
  {
   "cell_type": "markdown",
   "metadata": {},
   "source": [
    "# Movie Recommender System using Collaborative Filtering."
   ]
  },
  {
   "cell_type": "markdown",
   "metadata": {},
   "source": [
    "## 1. Introduction:\n",
    "\n",
    "![Capture](https://user-images.githubusercontent.com/67468718/120515663-5fc7e500-c383-11eb-9286-a1dcbbf509fc.JPG)\n",
    "\n",
    "Over the last few decades, with the advent of YouTube, Amazon, Netflix and many other Web services, recommendation platforms are becoming much more part of our lives from e commerce, suggesting the customers articles that could be of interest.\n",
    "\n",
    "In a very general way, Recommendation systems are algorithms program to present related things to users with items being movies to watch, books to read, products to buy or anything else, depending on the industry.\n",
    "Recommendation systems are very important in some industries because they can produce a large amount of money if they're effective, or if they are a way of standing out dramatically from competitors.\n",
    "The aim of the recommendation framework is to produce relevant suggestions for the collection of users of objects or products that may be of interest to them. \n",
    "Suggestions for Amazon books or Netflix shows are all really world examples of how industry leading systems work. The architecture of such recommendation engines depends on the domain and basic characteristics of the available data.\n",
    "\n",
    "\n",
    "There are mainly Three types of recommendation engines:\n",
    " 1. Collaborative filtering.\n",
    " 2. Content based Filtering.\n",
    " 3. Hybrid (Combination of Collaborative and Content based Filtering).\n",
    " \n",
    "In this project we'll be working to build a Recommender Engine based on Collaborative Filtering method.\n",
    "\n",
    "Collaborative filtering Method for recommendation systems is focused entirely on previous experiences documented between users and items in order to generate new recommendations. These interactions are contained in what's called a user item interaction matrix.\n"
   ]
  },
  {
   "cell_type": "markdown",
   "metadata": {},
   "source": [
    "## 2. Import all necessary libraries\n"
   ]
  },
  {
   "cell_type": "code",
   "execution_count": 45,
   "metadata": {},
   "outputs": [
    {
     "name": "stdout",
     "output_type": "stream",
     "text": [
      ">> Importing Libraries\n",
      ">> Libraries Imported!\n"
     ]
    }
   ],
   "source": [
    "print('>> Importing Libraries')\n",
    "import pandas as pd\n",
    "import numpy as np\n",
    "import matplotlib.pyplot as plt\n",
    "import seaborn as sns\n",
    "\n",
    "#singular value decomposition, which is the exact model that will be using to actually create the recommendation system.\n",
    "from surprise import Reader, Dataset, SVD #\n",
    "from surprise.accuracy import rmse, mae\n",
    "from surprise.model_selection import cross_validate\n",
    "import os\n",
    "from collections import defaultdict\n",
    "from surprise.model_selection import GridSearchCV\n",
    "\n",
    "plt.style.use('ggplot')\n",
    "print('>> Libraries Imported!')"
   ]
  },
  {
   "cell_type": "markdown",
   "metadata": {},
   "source": [
    "## 3. Importing Data\n",
    "\n",
    "We'll be using open-source Dataset from [groupLens Research](https://movielens.org/)"
   ]
  },
  {
   "cell_type": "code",
   "execution_count": null,
   "metadata": {},
   "outputs": [],
   "source": [
    "# Check Current Directory:\n",
    "os.getcwd()"
   ]
  },
  {
   "cell_type": "code",
   "execution_count": 6,
   "metadata": {},
   "outputs": [],
   "source": [
    "# Changing the directory:\n",
    "os.chdir(r\"path/collabrative project\")"
   ]
  },
  {
   "cell_type": "code",
   "execution_count": null,
   "metadata": {},
   "outputs": [],
   "source": [
    "#Confirm the directory:\n",
    "os.getcwd()"
   ]
  },
  {
   "cell_type": "code",
   "execution_count": null,
   "metadata": {},
   "outputs": [],
   "source": [
    "# List files/folders in the cd:\n",
    "os.listdir()"
   ]
  },
  {
   "cell_type": "code",
   "execution_count": 55,
   "metadata": {},
   "outputs": [],
   "source": [
    "#let's import the data: ratings.csv\n",
    "df_new = pd.read_csv('ratings.csv')"
   ]
  },
  {
   "cell_type": "code",
   "execution_count": 56,
   "metadata": {},
   "outputs": [
    {
     "data": {
      "text/html": [
       "<div>\n",
       "<style scoped>\n",
       "    .dataframe tbody tr th:only-of-type {\n",
       "        vertical-align: middle;\n",
       "    }\n",
       "\n",
       "    .dataframe tbody tr th {\n",
       "        vertical-align: top;\n",
       "    }\n",
       "\n",
       "    .dataframe thead th {\n",
       "        text-align: right;\n",
       "    }\n",
       "</style>\n",
       "<table border=\"1\" class=\"dataframe\">\n",
       "  <thead>\n",
       "    <tr style=\"text-align: right;\">\n",
       "      <th></th>\n",
       "      <th>userId</th>\n",
       "      <th>movieId</th>\n",
       "      <th>rating</th>\n",
       "      <th>timestamp</th>\n",
       "    </tr>\n",
       "  </thead>\n",
       "  <tbody>\n",
       "    <tr>\n",
       "      <th>0</th>\n",
       "      <td>1</td>\n",
       "      <td>1</td>\n",
       "      <td>4.0</td>\n",
       "      <td>964982703</td>\n",
       "    </tr>\n",
       "    <tr>\n",
       "      <th>1</th>\n",
       "      <td>1</td>\n",
       "      <td>3</td>\n",
       "      <td>4.0</td>\n",
       "      <td>964981247</td>\n",
       "    </tr>\n",
       "    <tr>\n",
       "      <th>2</th>\n",
       "      <td>1</td>\n",
       "      <td>6</td>\n",
       "      <td>4.0</td>\n",
       "      <td>964982224</td>\n",
       "    </tr>\n",
       "    <tr>\n",
       "      <th>3</th>\n",
       "      <td>1</td>\n",
       "      <td>47</td>\n",
       "      <td>5.0</td>\n",
       "      <td>964983815</td>\n",
       "    </tr>\n",
       "    <tr>\n",
       "      <th>4</th>\n",
       "      <td>1</td>\n",
       "      <td>50</td>\n",
       "      <td>5.0</td>\n",
       "      <td>964982931</td>\n",
       "    </tr>\n",
       "  </tbody>\n",
       "</table>\n",
       "</div>"
      ],
      "text/plain": [
       "   userId  movieId  rating  timestamp\n",
       "0       1        1     4.0  964982703\n",
       "1       1        3     4.0  964981247\n",
       "2       1        6     4.0  964982224\n",
       "3       1       47     5.0  964983815\n",
       "4       1       50     5.0  964982931"
      ]
     },
     "execution_count": 56,
     "metadata": {},
     "output_type": "execute_result"
    }
   ],
   "source": [
    "# let's check top 5 rows from the dataset:\n",
    "df_new.head()"
   ]
  },
  {
   "cell_type": "code",
   "execution_count": 61,
   "metadata": {},
   "outputs": [
    {
     "name": "stdout",
     "output_type": "stream",
     "text": [
      "<class 'pandas.core.frame.DataFrame'>\n",
      "RangeIndex: 100836 entries, 0 to 100835\n",
      "Data columns (total 4 columns):\n",
      " #   Column     Non-Null Count   Dtype  \n",
      "---  ------     --------------   -----  \n",
      " 0   userId     100836 non-null  int64  \n",
      " 1   movieId    100836 non-null  int64  \n",
      " 2   rating     100836 non-null  float64\n",
      " 3   timestamp  100836 non-null  int64  \n",
      "dtypes: float64(1), int64(3)\n",
      "memory usage: 3.1 MB\n"
     ]
    }
   ],
   "source": [
    "# let's look at overview of the dataframe: shape, datatype, ..etc\n",
    "df_new.info()"
   ]
  },
  {
   "cell_type": "code",
   "execution_count": 62,
   "metadata": {},
   "outputs": [
    {
     "name": "stdout",
     "output_type": "stream",
     "text": [
      "Original rating shape: (100836, 4)\n"
     ]
    }
   ],
   "source": [
    "# let's look at the daraframe shape:\n",
    "original_shape = df_new.shape\n",
    "print(f'Original rating shape: {original_shape}')"
   ]
  },
  {
   "cell_type": "markdown",
   "metadata": {},
   "source": [
    "## 4. Dropping columns.\n",
    "\n",
    "We won't be using 'timestamp' column when user gave the particular rating. so well drop that column."
   ]
  },
  {
   "cell_type": "code",
   "execution_count": 63,
   "metadata": {},
   "outputs": [
    {
     "data": {
      "text/html": [
       "<div>\n",
       "<style scoped>\n",
       "    .dataframe tbody tr th:only-of-type {\n",
       "        vertical-align: middle;\n",
       "    }\n",
       "\n",
       "    .dataframe tbody tr th {\n",
       "        vertical-align: top;\n",
       "    }\n",
       "\n",
       "    .dataframe thead th {\n",
       "        text-align: right;\n",
       "    }\n",
       "</style>\n",
       "<table border=\"1\" class=\"dataframe\">\n",
       "  <thead>\n",
       "    <tr style=\"text-align: right;\">\n",
       "      <th></th>\n",
       "      <th>userId</th>\n",
       "      <th>movieId</th>\n",
       "      <th>rating</th>\n",
       "    </tr>\n",
       "  </thead>\n",
       "  <tbody>\n",
       "    <tr>\n",
       "      <th>0</th>\n",
       "      <td>1</td>\n",
       "      <td>1</td>\n",
       "      <td>4.0</td>\n",
       "    </tr>\n",
       "    <tr>\n",
       "      <th>1</th>\n",
       "      <td>1</td>\n",
       "      <td>3</td>\n",
       "      <td>4.0</td>\n",
       "    </tr>\n",
       "    <tr>\n",
       "      <th>2</th>\n",
       "      <td>1</td>\n",
       "      <td>6</td>\n",
       "      <td>4.0</td>\n",
       "    </tr>\n",
       "    <tr>\n",
       "      <th>3</th>\n",
       "      <td>1</td>\n",
       "      <td>47</td>\n",
       "      <td>5.0</td>\n",
       "    </tr>\n",
       "    <tr>\n",
       "      <th>4</th>\n",
       "      <td>1</td>\n",
       "      <td>50</td>\n",
       "      <td>5.0</td>\n",
       "    </tr>\n",
       "  </tbody>\n",
       "</table>\n",
       "</div>"
      ],
      "text/plain": [
       "   userId  movieId  rating\n",
       "0       1        1     4.0\n",
       "1       1        3     4.0\n",
       "2       1        6     4.0\n",
       "3       1       47     5.0\n",
       "4       1       50     5.0"
      ]
     },
     "execution_count": 63,
     "metadata": {},
     "output_type": "execute_result"
    }
   ],
   "source": [
    "#ok, so now let's drop timestamp column:\n",
    "df_new.drop('timestamp', axis=1, inplace=True)\n",
    "df_new.head()"
   ]
  },
  {
   "cell_type": "markdown",
   "metadata": {},
   "source": [
    "## 5. Missing & Duplicate Data:"
   ]
  },
  {
   "cell_type": "code",
   "execution_count": 64,
   "metadata": {},
   "outputs": [
    {
     "data": {
      "text/html": [
       "<div>\n",
       "<style scoped>\n",
       "    .dataframe tbody tr th:only-of-type {\n",
       "        vertical-align: middle;\n",
       "    }\n",
       "\n",
       "    .dataframe tbody tr th {\n",
       "        vertical-align: top;\n",
       "    }\n",
       "\n",
       "    .dataframe thead tr th {\n",
       "        text-align: left;\n",
       "    }\n",
       "</style>\n",
       "<table border=\"1\" class=\"dataframe\">\n",
       "  <thead>\n",
       "    <tr>\n",
       "      <th></th>\n",
       "      <th>unique_count</th>\n",
       "      <th>data_type</th>\n",
       "      <th>missing_count</th>\n",
       "      <th>missing%</th>\n",
       "    </tr>\n",
       "  </thead>\n",
       "  <tbody>\n",
       "    <tr>\n",
       "      <th>userId</th>\n",
       "      <td>610</td>\n",
       "      <td>int64</td>\n",
       "      <td>0</td>\n",
       "      <td>0.0</td>\n",
       "    </tr>\n",
       "    <tr>\n",
       "      <th>movieId</th>\n",
       "      <td>9724</td>\n",
       "      <td>int64</td>\n",
       "      <td>0</td>\n",
       "      <td>0.0</td>\n",
       "    </tr>\n",
       "    <tr>\n",
       "      <th>rating</th>\n",
       "      <td>10</td>\n",
       "      <td>float64</td>\n",
       "      <td>0</td>\n",
       "      <td>0.0</td>\n",
       "    </tr>\n",
       "  </tbody>\n",
       "</table>\n",
       "</div>"
      ],
      "text/plain": [
       "        unique_count data_type missing_count missing%\n",
       "userId           610     int64             0      0.0\n",
       "movieId         9724     int64             0      0.0\n",
       "rating            10   float64             0      0.0"
      ]
     },
     "execution_count": 64,
     "metadata": {},
     "output_type": "execute_result"
    }
   ],
   "source": [
    "#First let's have a general view of tracks df:\n",
    "ratings_missing = pd.concat([df_new.nunique(), df_new.dtypes, df_new.isnull().sum(), 100*df_new.isnull().mean()], axis=1)\n",
    "ratings_missing.columns = [['unique_count', 'data_type', 'missing_count', 'missing%']]\n",
    "ratings_missing"
   ]
  },
  {
   "cell_type": "markdown",
   "metadata": {},
   "source": [
    "Great, As shown above, there's no missing Data."
   ]
  },
  {
   "cell_type": "code",
   "execution_count": 65,
   "metadata": {},
   "outputs": [
    {
     "name": "stdout",
     "output_type": "stream",
     "text": [
      "The number of duplicate rating entries in the data is: 0\n"
     ]
    }
   ],
   "source": [
    "dup = df_new.duplicated(['movieId', 'userId', 'rating'])\n",
    "dups = sum(dup) # By considering all columns \n",
    "\n",
    "print(f'The number of duplicate rating entries in the data is: {dups}')"
   ]
  },
  {
   "cell_type": "markdown",
   "metadata": {},
   "source": [
    "## 6. Exploratory Data Analysis (EDA):"
   ]
  },
  {
   "cell_type": "markdown",
   "metadata": {},
   "source": [
    "### 3.1 Number of movies/users"
   ]
  },
  {
   "cell_type": "code",
   "execution_count": 66,
   "metadata": {},
   "outputs": [
    {
     "name": "stdout",
     "output_type": "stream",
     "text": [
      "Number of unique movies: 9724\n",
      "Number of unique users: 610\n"
     ]
    }
   ],
   "source": [
    "n_movies = df_new['movieId'].nunique()\n",
    "n_users = df_new['userId'].nunique()\n",
    "\n",
    "\n",
    "print(f'Number of unique movies: {n_movies}')\n",
    "print(f'Number of unique users: {n_users}')"
   ]
  },
  {
   "cell_type": "markdown",
   "metadata": {},
   "source": [
    "### 3.2 Sparsity of the Data\n",
    "\n",
    "**Sparsity(%)** = (No of missing values/(Total Values)) * 100 --> In simple term, it is the number of missing ratings portion to the total number of ratings possible."
   ]
  },
  {
   "cell_type": "code",
   "execution_count": 67,
   "metadata": {},
   "outputs": [
    {
     "name": "stdout",
     "output_type": "stream",
     "text": [
      "Sparsity: 98.30003169443864\n"
     ]
    }
   ],
   "source": [
    "available_ratings = df_new['rating'].count()\n",
    "total_ratings = n_movies * n_users\n",
    "missing_ratings = total_ratings - available_ratings\n",
    "\n",
    "sparsity = (missing_ratings) / (total_ratings) * 100\n",
    "\n",
    "print(f'Sparsity: {sparsity}')"
   ]
  },
  {
   "cell_type": "markdown",
   "metadata": {},
   "source": [
    "### 3.3 Ratings Distribution"
   ]
  },
  {
   "cell_type": "code",
   "execution_count": 68,
   "metadata": {},
   "outputs": [
    {
     "data": {
      "text/plain": [
       "Text(0.5, 1.0, 'Rating Distribution')"
      ]
     },
     "execution_count": 68,
     "metadata": {},
     "output_type": "execute_result"
    },
    {
     "data": {
      "image/png": "[encoded data removed]",
      "text/plain": [
       "<Figure size 1152x576 with 1 Axes>"
      ]
     },
     "metadata": {},
     "output_type": "display_data"
    }
   ],
   "source": [
    "f, ax = plt.subplots(figsize = (16,8))\n",
    "ax = sns.histplot(x=df_new['rating'], kde=True)\n",
    "ax.set_title('Rating Distribution', fontsize=15)"
   ]
  },
  {
   "cell_type": "markdown",
   "metadata": {},
   "source": [
    "### 3.4 Number of rated movies per user"
   ]
  },
  {
   "cell_type": "code",
   "execution_count": 69,
   "metadata": {},
   "outputs": [],
   "source": [
    "no_rated_movies_per_user = df_new.groupby('userId')['rating'].count().sort_values(ascending=False)"
   ]
  },
  {
   "cell_type": "code",
   "execution_count": 70,
   "metadata": {},
   "outputs": [
    {
     "data": {
      "text/plain": [
       "Text(0.5, 1.0, 'No of rated Movies per User')"
      ]
     },
     "execution_count": 70,
     "metadata": {},
     "output_type": "execute_result"
    },
    {
     "data": {
      "image/png": "[encoded data removed]",
      "text/plain": [
       "<Figure size 1152x576 with 1 Axes>"
      ]
     },
     "metadata": {},
     "output_type": "display_data"
    }
   ],
   "source": [
    "f, ax = plt.subplots(figsize = (16,8))\n",
    "ax = sns.histplot(x=no_rated_movies_per_user, kde=True)\n",
    "ax.set_title('No of rated Movies per User', fontsize=15)"
   ]
  },
  {
   "cell_type": "markdown",
   "metadata": {},
   "source": [
    "### 3.5 Number ratings per Movie"
   ]
  },
  {
   "cell_type": "code",
   "execution_count": 71,
   "metadata": {},
   "outputs": [],
   "source": [
    "no_of_ratings_per_movie = df_new.groupby('movieId')['rating'].count().sort_values(ascending=False)"
   ]
  },
  {
   "cell_type": "code",
   "execution_count": 72,
   "metadata": {},
   "outputs": [
    {
     "data": {
      "text/plain": [
       "Text(0.5, 1.0, 'No of ratings per Movie')"
      ]
     },
     "execution_count": 72,
     "metadata": {},
     "output_type": "execute_result"
    },
    {
     "data": {
      "image/png": "[encoded data removed]",
      "text/plain": [
       "<Figure size 1152x576 with 1 Axes>"
      ]
     },
     "metadata": {},
     "output_type": "display_data"
    }
   ],
   "source": [
    "f, ax = plt.subplots(figsize = (16,8))\n",
    "ax = sns.histplot(x=no_of_ratings_per_movie, kde=True)\n",
    "ax.set_title('No of ratings per Movie', fontsize=15)"
   ]
  },
  {
   "cell_type": "markdown",
   "metadata": {},
   "source": [
    "## 4. Dimensionality Reduction\n",
    "\n",
    "To reduce the dimensionality of the dataset, we'll filter out rarely rated movies and rarely rating users"
   ]
  },
  {
   "cell_type": "markdown",
   "metadata": {},
   "source": [
    "### 4.1 Filter movies with less than 3 ratings"
   ]
  },
  {
   "cell_type": "code",
   "execution_count": 77,
   "metadata": {},
   "outputs": [],
   "source": [
    "filter_movies = df_new['movieId'].value_counts() > 3\n",
    "filter_movies = filter_movies[filter_movies].index.tolist()"
   ]
  },
  {
   "cell_type": "markdown",
   "metadata": {},
   "source": [
    "### 4.2 Filter users with less than 3 movies rated"
   ]
  },
  {
   "cell_type": "code",
   "execution_count": 78,
   "metadata": {},
   "outputs": [],
   "source": [
    "filter_users = df_new['userId'].value_counts() > 3\n",
    "filter_users = filter_users[filter_users].index.tolist()"
   ]
  },
  {
   "cell_type": "markdown",
   "metadata": {},
   "source": [
    "### 4.3 Remove rarely rated movies and rarely rating users"
   ]
  },
  {
   "cell_type": "code",
   "execution_count": 79,
   "metadata": {},
   "outputs": [
    {
     "name": "stdout",
     "output_type": "stream",
     "text": [
      "Original Shape: (100836, 3)\n"
     ]
    }
   ],
   "source": [
    "print(f'Original Shape: {df_new.shape}')"
   ]
  },
  {
   "cell_type": "code",
   "execution_count": 81,
   "metadata": {},
   "outputs": [
    {
     "name": "stdout",
     "output_type": "stream",
     "text": [
      "New Shape: (92394, 3)\n"
     ]
    }
   ],
   "source": [
    "df_new = df_new[(df_new['movieId'].isin(filter_movies)) & (df_new['userId'].isin(filter_users))]\n",
    "print(f'New Shape: {df_new.shape}')"
   ]
  },
  {
   "cell_type": "markdown",
   "metadata": {},
   "source": [
    "## 5. Create Training and Test Sets\n",
    "\n",
    "### 5.1 Columns used for Training"
   ]
  },
  {
   "cell_type": "code",
   "execution_count": 82,
   "metadata": {},
   "outputs": [],
   "source": [
    "cols = ['userId', 'movieId', 'rating']"
   ]
  },
  {
   "cell_type": "markdown",
   "metadata": {},
   "source": [
    "### 5.2 create Suprise Dataset"
   ]
  },
  {
   "cell_type": "code",
   "execution_count": 83,
   "metadata": {},
   "outputs": [],
   "source": [
    "reader = Reader(rating_scale=(0.5, 5))\n",
    "data = Dataset.load_from_df(df[cols], reader)"
   ]
  },
  {
   "cell_type": "markdown",
   "metadata": {},
   "source": [
    "### 5.3 Create Train-set and Prediction-set"
   ]
  },
  {
   "cell_type": "code",
   "execution_count": 84,
   "metadata": {},
   "outputs": [],
   "source": [
    "trainset = data.build_full_trainset()\n",
    "# antiset: is the combination of all users on movies that do not have a training yet.\n",
    "antiset = trainset.build_anti_testset()"
   ]
  },
  {
   "cell_type": "markdown",
   "metadata": {},
   "source": [
    "## 6. Creating and training the Model\n",
    "\n",
    "### 6.1 Creating the Model\n",
    "\n",
    "We have picked SVD (Singular Value Decomposition) as good matrix factorization systems.\n",
    "\n",
    "Interaction matrix = A x B x c"
   ]
  },
  {
   "cell_type": "code",
   "execution_count": 86,
   "metadata": {},
   "outputs": [],
   "source": [
    "algo = SVD(n_epochs = 10, \n",
    "           lr_all = 0.005,\n",
    "           reg_all = 0.4,\n",
    "           verbose=True)\n",
    "\n",
    "\n"
   ]
  },
  {
   "cell_type": "markdown",
   "metadata": {},
   "source": [
    "### 6.2 Trainging the Model\n",
    "\n",
    "**Mean Absolute Error (MAE):**  measures the avregae magnitude of the errors in a set of predictions, without their direction.\n",
    "\n",
    "**Root Mean Squared Error (RMSE):** is the square root of the average of squared differences between predictions and actual observations.\n",
    "    \n",
    "    "
   ]
  },
  {
   "cell_type": "code",
   "execution_count": 87,
   "metadata": {
    "scrolled": false
   },
   "outputs": [
    {
     "name": "stdout",
     "output_type": "stream",
     "text": [
      "Processing epoch 0\n",
      "Processing epoch 1\n",
      "Processing epoch 2\n",
      "Processing epoch 3\n",
      "Processing epoch 4\n",
      "Processing epoch 5\n",
      "Processing epoch 6\n",
      "Processing epoch 7\n",
      "Processing epoch 8\n",
      "Processing epoch 9\n",
      "Processing epoch 0\n",
      "Processing epoch 1\n",
      "Processing epoch 2\n",
      "Processing epoch 3\n",
      "Processing epoch 4\n",
      "Processing epoch 5\n",
      "Processing epoch 6\n",
      "Processing epoch 7\n",
      "Processing epoch 8\n",
      "Processing epoch 9\n",
      "Processing epoch 0\n",
      "Processing epoch 1\n",
      "Processing epoch 2\n",
      "Processing epoch 3\n",
      "Processing epoch 4\n",
      "Processing epoch 5\n",
      "Processing epoch 6\n",
      "Processing epoch 7\n",
      "Processing epoch 8\n",
      "Processing epoch 9\n",
      "Processing epoch 0\n",
      "Processing epoch 1\n",
      "Processing epoch 2\n",
      "Processing epoch 3\n",
      "Processing epoch 4\n",
      "Processing epoch 5\n",
      "Processing epoch 6\n",
      "Processing epoch 7\n",
      "Processing epoch 8\n",
      "Processing epoch 9\n",
      "Processing epoch 0\n",
      "Processing epoch 1\n",
      "Processing epoch 2\n",
      "Processing epoch 3\n",
      "Processing epoch 4\n",
      "Processing epoch 5\n",
      "Processing epoch 6\n",
      "Processing epoch 7\n",
      "Processing epoch 8\n",
      "Processing epoch 9\n",
      "Evaluating RMSE, MAE of algorithm SVD on 5 split(s).\n",
      "\n",
      "                  Fold 1  Fold 2  Fold 3  Fold 4  Fold 5  Mean    Std     \n",
      "RMSE (testset)    0.8837  0.8889  0.8716  0.8758  0.8784  0.8797  0.0060  \n",
      "MAE (testset)     0.6849  0.6880  0.6732  0.6785  0.6776  0.6804  0.0053  \n",
      "Fit time          1.78    1.71    1.74    1.75    1.73    1.74    0.02    \n",
      "Test time         0.10    0.09    0.10    0.09    0.09    0.09    0.00    \n",
      ">>Training is Done!!!\n"
     ]
    }
   ],
   "source": [
    "cross_validate(algo, data, measures=['RMSE', 'MAE'], cv=5, verbose=True)\n",
    "print('>>Training is Done!!!')"
   ]
  },
  {
   "cell_type": "markdown",
   "metadata": {},
   "source": [
    "## 7. Tune algorithm parameters with GridSearchCV\n",
    "\n",
    "The cross_validate() function reports accuracy metric over a cross-validation procedure for a given set of parameters. If you want to know which parameter combination yields the best results, the GridSearchCV class comes to the rescue. Given a dict of parameters, this class exhaustively tries all the combinations of parameters and reports the best parameters for any accuracy measure (averaged over the different splits). It is heavily inspired from scikit-learn’s GridSearchCV."
   ]
  },
  {
   "cell_type": "code",
   "execution_count": 47,
   "metadata": {},
   "outputs": [
    {
     "name": "stdout",
     "output_type": "stream",
     "text": [
      "0.8827578126576427\n",
      "{'n_epochs': 10, 'lr_all': 0.005, 'reg_all': 0.4}\n"
     ]
    }
   ],
   "source": [
    "param_grid = {'n_epochs': [5, 10], 'lr_all': [0.002, 0.005],\n",
    "              'reg_all': [0.4, 0.6]}\n",
    "gs = GridSearchCV(SVD, param_grid, measures=['rmse', 'mae'], cv=3)\n",
    "\n",
    "gs.fit(data)\n",
    "\n",
    "# best RMSE score\n",
    "print(gs.best_score['rmse'])\n",
    "\n",
    "# combination of parameters that gave the best RMSE score\n",
    "print(gs.best_params['rmse'])"
   ]
  },
  {
   "cell_type": "markdown",
   "metadata": {},
   "source": [
    "Once fit() has been called, the best_estimator attribute gives us an algorithm instance with the optimal set of parameters:"
   ]
  },
  {
   "cell_type": "code",
   "execution_count": 49,
   "metadata": {},
   "outputs": [
    {
     "data": {
      "text/plain": [
       "<surprise.prediction_algorithms.matrix_factorization.SVD at 0x2033c084608>"
      ]
     },
     "execution_count": 49,
     "metadata": {},
     "output_type": "execute_result"
    }
   ],
   "source": [
    "# We can now use the algorithm that yields the best rmse:\n",
    "algo = gs.best_estimator['rmse']\n",
    "algo.fit(data.build_full_trainset())"
   ]
  },
  {
   "cell_type": "markdown",
   "metadata": {},
   "source": [
    "## 8. Predictions\n",
    "\n",
    "### 8.1 Predict ratings for all pairs (user, items) that are NOT in the training set."
   ]
  },
  {
   "cell_type": "code",
   "execution_count": 88,
   "metadata": {},
   "outputs": [
    {
     "name": "stdout",
     "output_type": "stream",
     "text": [
      "<class 'list'>\n"
     ]
    }
   ],
   "source": [
    "predictions = algo.test(antiset)\n",
    "print(type(predictions))"
   ]
  },
  {
   "cell_type": "code",
   "execution_count": 89,
   "metadata": {},
   "outputs": [
    {
     "data": {
      "text/plain": [
       "[Prediction(uid=1, iid=318, r_ui=3.529119856267723, est=4.662385640933375, details={'was_impossible': False}),\n",
       " Prediction(uid=1, iid=1704, r_ui=3.529119856267723, est=4.413083567867726, details={'was_impossible': False}),\n",
       " Prediction(uid=1, iid=6874, r_ui=3.529119856267723, est=4.416094632798852, details={'was_impossible': False}),\n",
       " Prediction(uid=1, iid=8798, r_ui=3.529119856267723, est=4.216674603044155, details={'was_impossible': False}),\n",
       " Prediction(uid=1, iid=46970, r_ui=3.529119856267723, est=3.9571765894040243, details={'was_impossible': False})]"
      ]
     },
     "execution_count": 89,
     "metadata": {},
     "output_type": "execute_result"
    }
   ],
   "source": [
    "predictions[0:5]"
   ]
  },
  {
   "cell_type": "markdown",
   "metadata": {},
   "source": [
    "### 8.2 Recommending top 3 movies based on predictions"
   ]
  },
  {
   "cell_type": "code",
   "execution_count": 90,
   "metadata": {},
   "outputs": [],
   "source": [
    "def get_Iu(uid):\n",
    "    \"\"\" return the number of items rated by given user\n",
    "    args: \n",
    "      uid: the id of the user\n",
    "    returns: \n",
    "      the number of items rated by the user\n",
    "    \"\"\"\n",
    "    try:\n",
    "        return len(trainset.ur[trainset.to_inner_uid(uid)])\n",
    "    except ValueError: # user was not part of the trainset\n",
    "        return 0\n",
    "    \n",
    "def get_Ui(iid):\n",
    "    \"\"\" return number of users that have rated given item\n",
    "    args:\n",
    "      iid: the raw id of the item\n",
    "    returns:\n",
    "      the number of users that have rated the item.\n",
    "    \"\"\"\n",
    "    try: \n",
    "        return len(trainset.ir[trainset.to_inner_iid(iid)])\n",
    "    except ValueError:\n",
    "        return 0\n",
    "    \n",
    "df = pd.DataFrame(predictions, columns=['uid', 'iid', 'rui', 'est', 'details'])\n",
    "df['Iu'] = df.uid.apply(get_Iu)\n",
    "df['Ui'] = df.iid.apply(get_Ui)\n",
    "df['err'] = abs(df.est - df.rui)\n",
    "best_predictions = df.sort_values(by='err')[:10]\n",
    "worst_predictions = df.sort_values(by='err')[-10:]"
   ]
  },
  {
   "cell_type": "code",
   "execution_count": 91,
   "metadata": {},
   "outputs": [
    {
     "data": {
      "text/html": [
       "<div>\n",
       "<style scoped>\n",
       "    .dataframe tbody tr th:only-of-type {\n",
       "        vertical-align: middle;\n",
       "    }\n",
       "\n",
       "    .dataframe tbody tr th {\n",
       "        vertical-align: top;\n",
       "    }\n",
       "\n",
       "    .dataframe thead th {\n",
       "        text-align: right;\n",
       "    }\n",
       "</style>\n",
       "<table border=\"1\" class=\"dataframe\">\n",
       "  <thead>\n",
       "    <tr style=\"text-align: right;\">\n",
       "      <th></th>\n",
       "      <th>uid</th>\n",
       "      <th>iid</th>\n",
       "      <th>rui</th>\n",
       "      <th>est</th>\n",
       "      <th>details</th>\n",
       "      <th>Iu</th>\n",
       "      <th>Ui</th>\n",
       "      <th>err</th>\n",
       "    </tr>\n",
       "  </thead>\n",
       "  <tbody>\n",
       "    <tr>\n",
       "      <th>2273068</th>\n",
       "      <td>564</td>\n",
       "      <td>3869</td>\n",
       "      <td>3.52912</td>\n",
       "      <td>3.529119</td>\n",
       "      <td>{'was_impossible': False}</td>\n",
       "      <td>144</td>\n",
       "      <td>26</td>\n",
       "      <td>6.615461e-07</td>\n",
       "    </tr>\n",
       "    <tr>\n",
       "      <th>1661462</th>\n",
       "      <td>412</td>\n",
       "      <td>3699</td>\n",
       "      <td>3.52912</td>\n",
       "      <td>3.529119</td>\n",
       "      <td>{'was_impossible': False}</td>\n",
       "      <td>100</td>\n",
       "      <td>13</td>\n",
       "      <td>8.112120e-07</td>\n",
       "    </tr>\n",
       "    <tr>\n",
       "      <th>1349592</th>\n",
       "      <td>335</td>\n",
       "      <td>86882</td>\n",
       "      <td>3.52912</td>\n",
       "      <td>3.529119</td>\n",
       "      <td>{'was_impossible': False}</td>\n",
       "      <td>28</td>\n",
       "      <td>25</td>\n",
       "      <td>9.164947e-07</td>\n",
       "    </tr>\n",
       "    <tr>\n",
       "      <th>1122213</th>\n",
       "      <td>278</td>\n",
       "      <td>2560</td>\n",
       "      <td>3.52912</td>\n",
       "      <td>3.529121</td>\n",
       "      <td>{'was_impossible': False}</td>\n",
       "      <td>20</td>\n",
       "      <td>8</td>\n",
       "      <td>9.953519e-07</td>\n",
       "    </tr>\n",
       "    <tr>\n",
       "      <th>52387</th>\n",
       "      <td>13</td>\n",
       "      <td>2970</td>\n",
       "      <td>3.52912</td>\n",
       "      <td>3.529121</td>\n",
       "      <td>{'was_impossible': False}</td>\n",
       "      <td>31</td>\n",
       "      <td>4</td>\n",
       "      <td>1.395006e-06</td>\n",
       "    </tr>\n",
       "    <tr>\n",
       "      <th>2346728</th>\n",
       "      <td>582</td>\n",
       "      <td>68319</td>\n",
       "      <td>3.52912</td>\n",
       "      <td>3.529118</td>\n",
       "      <td>{'was_impossible': False}</td>\n",
       "      <td>56</td>\n",
       "      <td>26</td>\n",
       "      <td>1.755531e-06</td>\n",
       "    </tr>\n",
       "    <tr>\n",
       "      <th>832090</th>\n",
       "      <td>206</td>\n",
       "      <td>2456</td>\n",
       "      <td>3.52912</td>\n",
       "      <td>3.529122</td>\n",
       "      <td>{'was_impossible': False}</td>\n",
       "      <td>25</td>\n",
       "      <td>9</td>\n",
       "      <td>1.825538e-06</td>\n",
       "    </tr>\n",
       "    <tr>\n",
       "      <th>1077081</th>\n",
       "      <td>267</td>\n",
       "      <td>3835</td>\n",
       "      <td>3.52912</td>\n",
       "      <td>3.529122</td>\n",
       "      <td>{'was_impossible': False}</td>\n",
       "      <td>57</td>\n",
       "      <td>6</td>\n",
       "      <td>1.872171e-06</td>\n",
       "    </tr>\n",
       "    <tr>\n",
       "      <th>1151234</th>\n",
       "      <td>285</td>\n",
       "      <td>79428</td>\n",
       "      <td>3.52912</td>\n",
       "      <td>3.529118</td>\n",
       "      <td>{'was_impossible': False}</td>\n",
       "      <td>35</td>\n",
       "      <td>7</td>\n",
       "      <td>1.904620e-06</td>\n",
       "    </tr>\n",
       "    <tr>\n",
       "      <th>1576092</th>\n",
       "      <td>391</td>\n",
       "      <td>3230</td>\n",
       "      <td>3.52912</td>\n",
       "      <td>3.529118</td>\n",
       "      <td>{'was_impossible': False}</td>\n",
       "      <td>365</td>\n",
       "      <td>4</td>\n",
       "      <td>2.188192e-06</td>\n",
       "    </tr>\n",
       "  </tbody>\n",
       "</table>\n",
       "</div>"
      ],
      "text/plain": [
       "         uid    iid      rui       est                    details   Iu  Ui  \\\n",
       "2273068  564   3869  3.52912  3.529119  {'was_impossible': False}  144  26   \n",
       "1661462  412   3699  3.52912  3.529119  {'was_impossible': False}  100  13   \n",
       "1349592  335  86882  3.52912  3.529119  {'was_impossible': False}   28  25   \n",
       "1122213  278   2560  3.52912  3.529121  {'was_impossible': False}   20   8   \n",
       "52387     13   2970  3.52912  3.529121  {'was_impossible': False}   31   4   \n",
       "2346728  582  68319  3.52912  3.529118  {'was_impossible': False}   56  26   \n",
       "832090   206   2456  3.52912  3.529122  {'was_impossible': False}   25   9   \n",
       "1077081  267   3835  3.52912  3.529122  {'was_impossible': False}   57   6   \n",
       "1151234  285  79428  3.52912  3.529118  {'was_impossible': False}   35   7   \n",
       "1576092  391   3230  3.52912  3.529118  {'was_impossible': False}  365   4   \n",
       "\n",
       "                  err  \n",
       "2273068  6.615461e-07  \n",
       "1661462  8.112120e-07  \n",
       "1349592  9.164947e-07  \n",
       "1122213  9.953519e-07  \n",
       "52387    1.395006e-06  \n",
       "2346728  1.755531e-06  \n",
       "832090   1.825538e-06  \n",
       "1077081  1.872171e-06  \n",
       "1151234  1.904620e-06  \n",
       "1576092  2.188192e-06  "
      ]
     },
     "execution_count": 91,
     "metadata": {},
     "output_type": "execute_result"
    }
   ],
   "source": [
    "best_predictions"
   ]
  },
  {
   "cell_type": "markdown",
   "metadata": {},
   "source": [
    "The above are the best predictions, and they are not lucky guesses , they are not really small, meaning that significant number of users have rated the target movie."
   ]
  },
  {
   "cell_type": "code",
   "execution_count": 92,
   "metadata": {},
   "outputs": [
    {
     "data": {
      "text/html": [
       "<div>\n",
       "<style scoped>\n",
       "    .dataframe tbody tr th:only-of-type {\n",
       "        vertical-align: middle;\n",
       "    }\n",
       "\n",
       "    .dataframe tbody tr th {\n",
       "        vertical-align: top;\n",
       "    }\n",
       "\n",
       "    .dataframe thead th {\n",
       "        text-align: right;\n",
       "    }\n",
       "</style>\n",
       "<table border=\"1\" class=\"dataframe\">\n",
       "  <thead>\n",
       "    <tr style=\"text-align: right;\">\n",
       "      <th></th>\n",
       "      <th>uid</th>\n",
       "      <th>iid</th>\n",
       "      <th>rui</th>\n",
       "      <th>est</th>\n",
       "      <th>details</th>\n",
       "      <th>Iu</th>\n",
       "      <th>Ui</th>\n",
       "      <th>err</th>\n",
       "    </tr>\n",
       "  </thead>\n",
       "  <tbody>\n",
       "    <tr>\n",
       "      <th>1782306</th>\n",
       "      <td>442</td>\n",
       "      <td>3593</td>\n",
       "      <td>3.52912</td>\n",
       "      <td>1.690740</td>\n",
       "      <td>{'was_impossible': False}</td>\n",
       "      <td>20</td>\n",
       "      <td>19</td>\n",
       "      <td>1.838380</td>\n",
       "    </tr>\n",
       "    <tr>\n",
       "      <th>1239475</th>\n",
       "      <td>308</td>\n",
       "      <td>1882</td>\n",
       "      <td>3.52912</td>\n",
       "      <td>1.687170</td>\n",
       "      <td>{'was_impossible': False}</td>\n",
       "      <td>112</td>\n",
       "      <td>33</td>\n",
       "      <td>1.841950</td>\n",
       "    </tr>\n",
       "    <tr>\n",
       "      <th>10637</th>\n",
       "      <td>3</td>\n",
       "      <td>3593</td>\n",
       "      <td>3.52912</td>\n",
       "      <td>1.684889</td>\n",
       "      <td>{'was_impossible': False}</td>\n",
       "      <td>30</td>\n",
       "      <td>19</td>\n",
       "      <td>1.844231</td>\n",
       "    </tr>\n",
       "    <tr>\n",
       "      <th>8750</th>\n",
       "      <td>3</td>\n",
       "      <td>2701</td>\n",
       "      <td>3.52912</td>\n",
       "      <td>1.682256</td>\n",
       "      <td>{'was_impossible': False}</td>\n",
       "      <td>30</td>\n",
       "      <td>53</td>\n",
       "      <td>1.846863</td>\n",
       "    </tr>\n",
       "    <tr>\n",
       "      <th>1780330</th>\n",
       "      <td>442</td>\n",
       "      <td>374</td>\n",
       "      <td>3.52912</td>\n",
       "      <td>1.674636</td>\n",
       "      <td>{'was_impossible': False}</td>\n",
       "      <td>20</td>\n",
       "      <td>25</td>\n",
       "      <td>1.854484</td>\n",
       "    </tr>\n",
       "    <tr>\n",
       "      <th>9431</th>\n",
       "      <td>3</td>\n",
       "      <td>1562</td>\n",
       "      <td>3.52912</td>\n",
       "      <td>1.651586</td>\n",
       "      <td>{'was_impossible': False}</td>\n",
       "      <td>30</td>\n",
       "      <td>42</td>\n",
       "      <td>1.877534</td>\n",
       "    </tr>\n",
       "    <tr>\n",
       "      <th>615382</th>\n",
       "      <td>153</td>\n",
       "      <td>1882</td>\n",
       "      <td>3.52912</td>\n",
       "      <td>1.632009</td>\n",
       "      <td>{'was_impossible': False}</td>\n",
       "      <td>164</td>\n",
       "      <td>33</td>\n",
       "      <td>1.897110</td>\n",
       "    </tr>\n",
       "    <tr>\n",
       "      <th>558349</th>\n",
       "      <td>139</td>\n",
       "      <td>1882</td>\n",
       "      <td>3.52912</td>\n",
       "      <td>1.631741</td>\n",
       "      <td>{'was_impossible': False}</td>\n",
       "      <td>194</td>\n",
       "      <td>33</td>\n",
       "      <td>1.897379</td>\n",
       "    </tr>\n",
       "    <tr>\n",
       "      <th>8980</th>\n",
       "      <td>3</td>\n",
       "      <td>1882</td>\n",
       "      <td>3.52912</td>\n",
       "      <td>1.573623</td>\n",
       "      <td>{'was_impossible': False}</td>\n",
       "      <td>30</td>\n",
       "      <td>33</td>\n",
       "      <td>1.955497</td>\n",
       "    </tr>\n",
       "    <tr>\n",
       "      <th>1780659</th>\n",
       "      <td>442</td>\n",
       "      <td>1882</td>\n",
       "      <td>3.52912</td>\n",
       "      <td>1.482775</td>\n",
       "      <td>{'was_impossible': False}</td>\n",
       "      <td>20</td>\n",
       "      <td>33</td>\n",
       "      <td>2.046345</td>\n",
       "    </tr>\n",
       "  </tbody>\n",
       "</table>\n",
       "</div>"
      ],
      "text/plain": [
       "         uid   iid      rui       est                    details   Iu  Ui  \\\n",
       "1782306  442  3593  3.52912  1.690740  {'was_impossible': False}   20  19   \n",
       "1239475  308  1882  3.52912  1.687170  {'was_impossible': False}  112  33   \n",
       "10637      3  3593  3.52912  1.684889  {'was_impossible': False}   30  19   \n",
       "8750       3  2701  3.52912  1.682256  {'was_impossible': False}   30  53   \n",
       "1780330  442   374  3.52912  1.674636  {'was_impossible': False}   20  25   \n",
       "9431       3  1562  3.52912  1.651586  {'was_impossible': False}   30  42   \n",
       "615382   153  1882  3.52912  1.632009  {'was_impossible': False}  164  33   \n",
       "558349   139  1882  3.52912  1.631741  {'was_impossible': False}  194  33   \n",
       "8980       3  1882  3.52912  1.573623  {'was_impossible': False}   30  33   \n",
       "1780659  442  1882  3.52912  1.482775  {'was_impossible': False}   20  33   \n",
       "\n",
       "              err  \n",
       "1782306  1.838380  \n",
       "1239475  1.841950  \n",
       "10637    1.844231  \n",
       "8750     1.846863  \n",
       "1780330  1.854484  \n",
       "9431     1.877534  \n",
       "615382   1.897110  \n",
       "558349   1.897379  \n",
       "8980     1.955497  \n",
       "1780659  2.046345  "
      ]
     },
     "execution_count": 92,
     "metadata": {},
     "output_type": "execute_result"
    }
   ],
   "source": [
    "worst_predictions"
   ]
  },
  {
   "cell_type": "markdown",
   "metadata": {},
   "source": [
    "The worst predictions look pretty surprise. Let’s look in more details of the last one \"1882\". The movie was rated by 19 users, user “442” rated 3.5, our Baseline Only algorithm predicts this user would rate 1.48."
   ]
  },
  {
   "cell_type": "code",
   "execution_count": 94,
   "metadata": {},
   "outputs": [
    {
     "data": {
      "image/png": "[encoded data removed]",
      "text/plain": [
       "<Figure size 432x288 with 1 Axes>"
      ]
     },
     "metadata": {},
     "output_type": "display_data"
    }
   ],
   "source": [
    "df_new.loc[df_new['movieId'] == 1882]['rating'].hist()\n",
    "plt.xlabel('rating')\n",
    "plt.ylabel('Number of ratings')\n",
    "plt.title('Number of ratings movieId=1882 has received')\n",
    "plt.show();"
   ]
  },
  {
   "cell_type": "code",
   "execution_count": 2,
   "metadata": {},
   "outputs": [
    {
     "data": {
      "text/html": [
       "<style>.container { width:75% !important; }</style>"
      ],
      "text/plain": [
       "<IPython.core.display.HTML object>"
      ]
     },
     "metadata": {},
     "output_type": "display_data"
    }
   ],
   "source": [
    "from IPython.core.display import display, HTML\n",
    "display(HTML(\"<style>.container { width:75% !important; }</style>\"))"
   ]
  },
  {
   "cell_type": "code",
   "execution_count": null,
   "metadata": {},
   "outputs": [],
   "source": []
  }
 ],
 "metadata": {
  "kernelspec": {
   "display_name": "Python 3",
   "language": "python",
   "name": "python3"
  },
  "language_info": {
   "codemirror_mode": {
    "name": "ipython",
    "version": 3
   },
   "file_extension": ".py",
   "mimetype": "text/x-python",
   "name": "python",
   "nbconvert_exporter": "python",
   "pygments_lexer": "ipython3",
   "version": "3.7.6"
  }
 },
 "nbformat": 4,
 "nbformat_minor": 4
}
